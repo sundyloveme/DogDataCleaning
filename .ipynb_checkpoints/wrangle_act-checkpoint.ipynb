{
 "cells": [
  {
   "cell_type": "markdown",
   "metadata": {},
   "source": [
    "本数据集收集的是一个推特博主叫WeRateDog的每条推特。（超级有意思的博主）这个博主就是对狗狗打分 传送门->https://twitter.com/dog_rates\n",
    "\n",
    "![Image Name](dogdog.jpg)\n",
    "\n",
    "** 我在做的事情就是 **\n",
    "- 1.数据进行收集\n",
    "- 2.评估数据质量问题和清洁度（结构）问题，\n",
    "- 3.清洗数据集\n",
    "☺"
   ]
  },
  {
   "cell_type": "markdown",
   "metadata": {},
   "source": [
    "## 收集"
   ]
  },
  {
   "cell_type": "markdown",
   "metadata": {},
   "source": [
    "- 收集文件 1 保存为 twitter_archive_enhanced\n",
    "- 收集文件 2 保存为 tweet_json\n",
    "- 收集文件 3 保存为 image_predictions"
   ]
  },
  {
   "cell_type": "markdown",
   "metadata": {},
   "source": [
    "## 评估\n",
    "### 目测评估"
   ]
  },
  {
   "cell_type": "markdown",
   "metadata": {},
   "source": [
    "twitter_archive_enhanced数据中有大量的空值 <br>\n",
    "twitter_archive_enhanced数据中有些列是不需要用的比如 in_reply_to_status_id"
   ]
  },
  {
   "cell_type": "markdown",
   "metadata": {},
   "source": [
    "tweet_json数据中包含了大量的空值"
   ]
  },
  {
   "cell_type": "markdown",
   "metadata": {},
   "source": [
    "image_predictions数据中对狗狗品种认定，但是给出了三种结果，取其中最高的即可。"
   ]
  },
  {
   "cell_type": "markdown",
   "metadata": {},
   "source": [
    "<div>\n",
    "<style>\n",
    "    .dataframe thead tr:only-child th {\n",
    "        text-align: right;\n",
    "    }"
   ]
  },
  {
   "cell_type": "markdown",
   "metadata": {},
   "source": [
    "#### 质量问题\n",
    "##### `twitter_archive_enhanced` 表格\n",
    "- 转发的(即retweets)的数据和回复的数据需要删除\n",
    "- source  列应当只包含iphone web内容\n",
    "- timestamp 列的时间数据不是datatime类型\n",
    "- name列数据异常\n",
    "- doggo\tfloofer\tpupper\tpuppo 列数据缺失\n",
    "- rating_denominator列中有异常值（等于0）\n",
    "- 没有图片的数据需要删除\n",
    "- tweet_id应当为object类型\n",
    "\n",
    "##### `tweet_json` 表格\n",
    "\n",
    "\n",
    "##### `image_predictions` 表格\n",
    "\n",
    "\n",
    "\n",
    "#### 整洁度问题\n",
    "- 合并`twitter_archive_enhanced`、`tweet_json`和`image_predictions`。以`twitter_archive_enhanced`为主要数据集合，保留`favorite_count `和`retweet_count `以及`jpg_url`、`img_num`、`p1`、`p1_conf`和`p1_dog`\n",
    "- doggo floofer pupper puppo 可以合并成一个列\n",
    "\n",
    "\n",
    "## 清理"
   ]
  },
  {
   "cell_type": "markdown",
   "metadata": {},
   "source": [
    "#### 问题描述一\n",
    "\n",
    "##### 定义\n",
    "in_reply_to_user_id 有78条，这些数据是回复。将其删除。 <br>\n",
    "retweeted_status_user_id 是转发数据。将其删除 <br>\n",
    "先查找出retweeted_status_user_id不为空的行，然后批量将其删除。in_reply_to_user_id也是如此"
   ]
  },
  {
   "cell_type": "markdown",
   "metadata": {},
   "source": [
    "#### 问题描述二\n",
    "\n",
    "##### 定义\n",
    "source列应当只包含iphone web等内容 <br>\n",
    "解析出每一个html标记语言中的内容\n",
    "    `<a href=\"http://twitter.com/download/iphone\" rel=\"nofollow\">Twitter for iPhone</a>`\n",
    "提取出Twitter for iPhone"
   ]
  },
  {
   "cell_type": "markdown",
   "metadata": {},
   "source": [
    "#### 问题描述三\n",
    "\n",
    "##### 定义\n",
    "timestamp 列的时间数据不是datatime类型<br>\n",
    "用pd.astype()方法直接转化数据类型"
   ]
  },
  {
   "cell_type": "markdown",
   "metadata": {},
   "source": [
    "#### 问题描述四\n",
    "\n",
    "##### 定义\n",
    "`name`列数据异常。根据`text`列修补 \n",
    "- 使用正则表达式匹配名字，并且名字第一个字应该是大写.\n",
    "- 如果`text`中没有写出名字那么用空字符串代替"
   ]
  },
  {
   "cell_type": "markdown",
   "metadata": {},
   "source": [
    "#### 问题描述五\n",
    "\n",
    "##### 定义\n",
    "`doggo floofer pupper puppo`等 列数据缺失\n",
    "- 查询text中是否存在对应的单词（doggo floofer pupper puppo）\n",
    "- 存在则放入对应的列"
   ]
  },
  {
   "cell_type": "markdown",
   "metadata": {},
   "source": [
    "#### 问题描述六\n",
    "\n",
    "##### 定义\n",
    "rating_denominator列中有异常值（等于0）\n",
    "<br>\n",
    "使用正则表达式从新提取分数"
   ]
  },
  {
   "cell_type": "markdown",
   "metadata": {},
   "source": [
    "#### 问题七\n",
    "\n",
    "##### 定义\n",
    "没有图片的数据需要删除\n",
    "- 直接用drop删除img列为空的行"
   ]
  },
  {
   "cell_type": "markdown",
   "metadata": {},
   "source": [
    "#### 问题八\n",
    "\n",
    "##### 定义\n",
    "tweet_id应当为object类型\n",
    "- 使用astype直接转化数据类型"
   ]
  },
  {
   "cell_type": "markdown",
   "metadata": {},
   "source": [
    "#### 问题描述九\n",
    "\n",
    "##### 定义\n",
    "合并twitter_archive_enhanced、tweet_json和image_predictions。以twitter_archive_enhanced为主要数据集合，保留favorite_count和retweet_count以及jpg_url、img_num、p1、p1_conf和p1_dog\n",
    "\n",
    "<br>\n",
    "合并jpg_url、img_num、p1、p1_conf和p1_dog的任务在**问题描述七**中完成了\n"
   ]
  },
  {
   "cell_type": "markdown",
   "metadata": {},
   "source": [
    "##### 问题描述 十个\n",
    "\n",
    "##### 定义\n",
    "`doggo floofer pupper puppo` 可以合并成一个列 \n",
    " - 直接用字符串拼接方法将列合并成一个字符串，然后存放在`nickname`列中。"
   ]
  }
 ],
 "metadata": {
  "kernelspec": {
   "display_name": "Python 3",
   "language": "python",
   "name": "python3"
  },
  "language_info": {
   "codemirror_mode": {
    "name": "ipython",
    "version": 3
   },
   "file_extension": ".py",
   "mimetype": "text/x-python",
   "name": "python",
   "nbconvert_exporter": "python",
   "pygments_lexer": "ipython3",
   "version": "3.6.5"
  }
 },
 "nbformat": 4,
 "nbformat_minor": 2
}
