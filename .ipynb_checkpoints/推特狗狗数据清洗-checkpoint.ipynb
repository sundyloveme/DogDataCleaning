{
 "cells": [
  {
   "cell_type": "markdown",
   "metadata": {
    "hide_input": false,
    "id": "2D025E4BDFBA42658C2DAC0A429E1849",
    "mdEditEnable": false
   },
   "source": [
    "本数据集收集的是一个推特博主叫WeRateDog的每条推特。（超级有意思的博主）这个博主就是对狗狗打分 传送门->https://twitter.com/dog_rates\n",
    "\n",
    "![Image Name](dogdog.jpg)\n",
    "\n",
    "** 我在做的事情就是 **\n",
    "- 1.数据进行收集\n",
    "- 2.评估数据质量问题和清洁度（结构）问题，\n",
    "- 3.清洗数据集\n",
    "☺"
   ]
  },
  {
   "cell_type": "code",
   "execution_count": 1,
   "metadata": {},
   "outputs": [],
   "source": [
    "# !pip install baidu-aip"
   ]
  },
  {
   "cell_type": "markdown",
   "metadata": {
    "hide_input": false,
    "id": "17267CC7B18C4DA1869300392B7DE62C",
    "mdEditEnable": false
   },
   "source": [
    "## 1.数据收集\n",
    "\n",
    "数据说明:\n",
    "- tweet_json.json 文件为博主的推特数据集\n",
    "- twitter-archive-enhanced.csv 文件为博主的推特数据集（不过缺失了转发数，点赞数等特征）\n",
    "- image-predictions.tsv 文件为根据神经网络，对出现在每个推特中狗的品种（或其他物体、动物等）进行预测的结果数据.\n",
    "\n",
    "工作任务：\n",
    "- 使用**编程的方式下载image-predictions.tsv**\n",
    "- ~~为每一个tweet_id建立一个文件夹，然后将对应的图片下载到文件夹中~~\n",
    "- **补充twitter-archive-enhanced每一条推特数据的`转发数`和`点赞数`**\n",
    "- ~~**增加新特征狗的品种(金毛、哈士奇和比熊等)**~~\n",
    "- ~~**合并1和2两个数据集**~~"
   ]
  },
  {
   "cell_type": "code",
   "execution_count": 2,
   "metadata": {},
   "outputs": [],
   "source": [
    "from aip import AipImageClassify\n",
    "from bs4 import BeautifulSoup\n",
    "import requests\n",
    "import re\n",
    "import numpy as np\n",
    "import pandas as pd"
   ]
  },
  {
   "cell_type": "code",
   "execution_count": 3,
   "metadata": {},
   "outputs": [],
   "source": [
    "# '''\n",
    "#     API秘钥\n",
    "#     初始化动物分类器client\n",
    "# '''\n",
    "# APP_ID = '16362689'\n",
    "# API_KEY = 'PHygp2qqRgV3p3NzGCvx5nW8'\n",
    "# SECRET_KEY = '6MtqtYPDMRzpF4TdXCOvxi6n4E0aIaEt'\n",
    "# client = AipImageClassify(APP_ID, API_KEY, SECRET_KEY)\n",
    "\n",
    "# '''\n",
    "# def get_file_content(filePath):\n",
    "#     with open(filePath, 'rb') as fp:\n",
    "#         return fp.read()\n",
    "# '''\n",
    "\n",
    "\n",
    "# '''\n",
    "#     网页图片爬虫器，切记翻墙。提取expanded url网页中的主题狗照片。\n",
    "#     参数：expanded_urls\n",
    "#     返回：狗狗图片url\n",
    "# '''\n",
    "# def getImgUrl(expanded_urls):\n",
    "#     header = {'user-agent': 'my-app/0.0.1'}\n",
    "#     res = requests.get(url = expanded_urls, headers = header)\n",
    "#     content = BeautifulSoup(res.content, \"lxml\")\n",
    "#     '''\n",
    "#     要匹配的标签是如下。利用属性选择的方式查询\n",
    "#     <img data-aria-label-part=\"\" src=\"https://pbs.twimg.com/media/DGBdLU1WsAANxJ9.jpg\" alt=\n",
    "#     \"\" style=\"width: 100%; top: -84px;\">\n",
    "#     '''\n",
    "#     c = content.select('img[data-aria-label-part]')[0]\n",
    "#     return c['src']\n",
    "\n",
    "# '''\n",
    "#     识别url指向的狗的品种\n",
    "#     参数: dogImgUrl 图片url\n",
    "#     返回: 识别结果json\n",
    "# '''\n",
    "# def getDogBreed(dogImgUrl):\n",
    "#     img = requests.get(dogImgUrl)\n",
    "#     return client.animalDetect(img.content)\n",
    "\n",
    "# # 结果测试\n",
    "# getDogBreed(getImgUrl(\"https://twitter.com/dog_rates/status/888917238123831296/photo/1\"))"
   ]
  },
  {
   "cell_type": "markdown",
   "metadata": {},
   "source": [
    "#### a.补充每一条推特数据的转发数和点赞数"
   ]
  },
  {
   "cell_type": "code",
   "execution_count": 4,
   "metadata": {},
   "outputs": [
    {
     "data": {
      "text/plain": [
       "Index(['tweet_id', 'in_reply_to_status_id', 'in_reply_to_user_id', 'timestamp',\n",
       "       'source', 'text', 'retweeted_status_id', 'retweeted_status_user_id',\n",
       "       'retweeted_status_timestamp', 'expanded_urls', 'rating_numerator',\n",
       "       'rating_denominator', 'name', 'doggo', 'floofer', 'pupper', 'puppo'],\n",
       "      dtype='object')"
      ]
     },
     "execution_count": 4,
     "metadata": {},
     "output_type": "execute_result"
    }
   ],
   "source": [
    "# 读取数据\n",
    "twitter_archive_enhanced = pd.read_csv('twitter-archive-enhanced.csv')\n",
    "twitter_archive_enhanced.head(2)\n",
    "twitter_archive_enhanced.columns"
   ]
  },
  {
   "cell_type": "code",
   "execution_count": 5,
   "metadata": {
    "hide_input": false,
    "id": "0F5D7806A1A24FF98ED405C1E997EA4D",
    "scrolled": false
   },
   "outputs": [
    {
     "data": {
      "text/html": [
       "<div>\n",
       "<style scoped>\n",
       "    .dataframe tbody tr th:only-of-type {\n",
       "        vertical-align: middle;\n",
       "    }\n",
       "\n",
       "    .dataframe tbody tr th {\n",
       "        vertical-align: top;\n",
       "    }\n",
       "\n",
       "    .dataframe thead th {\n",
       "        text-align: right;\n",
       "    }\n",
       "</style>\n",
       "<table border=\"1\" class=\"dataframe\">\n",
       "  <thead>\n",
       "    <tr style=\"text-align: right;\">\n",
       "      <th></th>\n",
       "      <th>contributors</th>\n",
       "      <th>coordinates</th>\n",
       "      <th>created_at</th>\n",
       "      <th>display_text_range</th>\n",
       "      <th>entities</th>\n",
       "      <th>extended_entities</th>\n",
       "      <th>favorite_count</th>\n",
       "      <th>favorited</th>\n",
       "      <th>full_text</th>\n",
       "      <th>geo</th>\n",
       "      <th>...</th>\n",
       "      <th>possibly_sensitive_appealable</th>\n",
       "      <th>quoted_status</th>\n",
       "      <th>quoted_status_id</th>\n",
       "      <th>quoted_status_id_str</th>\n",
       "      <th>retweet_count</th>\n",
       "      <th>retweeted</th>\n",
       "      <th>retweeted_status</th>\n",
       "      <th>source</th>\n",
       "      <th>truncated</th>\n",
       "      <th>user</th>\n",
       "    </tr>\n",
       "  </thead>\n",
       "  <tbody>\n",
       "    <tr>\n",
       "      <th>0</th>\n",
       "      <td>NaN</td>\n",
       "      <td>NaN</td>\n",
       "      <td>2017-08-01 16:23:56</td>\n",
       "      <td>[0, 85]</td>\n",
       "      <td>{'hashtags': [], 'symbols': [], 'user_mentions...</td>\n",
       "      <td>{'media': [{'id': 892420639486877696, 'id_str'...</td>\n",
       "      <td>39492</td>\n",
       "      <td>False</td>\n",
       "      <td>This is Phineas. He's a mystical boy. Only eve...</td>\n",
       "      <td>NaN</td>\n",
       "      <td>...</td>\n",
       "      <td>0.0</td>\n",
       "      <td>NaN</td>\n",
       "      <td>NaN</td>\n",
       "      <td>NaN</td>\n",
       "      <td>8842</td>\n",
       "      <td>False</td>\n",
       "      <td>NaN</td>\n",
       "      <td>&lt;a href=\"http://twitter.com/download/iphone\" r...</td>\n",
       "      <td>False</td>\n",
       "      <td>{'id': 4196983835, 'id_str': '4196983835', 'na...</td>\n",
       "    </tr>\n",
       "    <tr>\n",
       "      <th>1</th>\n",
       "      <td>NaN</td>\n",
       "      <td>NaN</td>\n",
       "      <td>2017-08-01 00:17:27</td>\n",
       "      <td>[0, 138]</td>\n",
       "      <td>{'hashtags': [], 'symbols': [], 'user_mentions...</td>\n",
       "      <td>{'media': [{'id': 892177413194625024, 'id_str'...</td>\n",
       "      <td>33786</td>\n",
       "      <td>False</td>\n",
       "      <td>This is Tilly. She's just checking pup on you....</td>\n",
       "      <td>NaN</td>\n",
       "      <td>...</td>\n",
       "      <td>0.0</td>\n",
       "      <td>NaN</td>\n",
       "      <td>NaN</td>\n",
       "      <td>NaN</td>\n",
       "      <td>6480</td>\n",
       "      <td>False</td>\n",
       "      <td>NaN</td>\n",
       "      <td>&lt;a href=\"http://twitter.com/download/iphone\" r...</td>\n",
       "      <td>False</td>\n",
       "      <td>{'id': 4196983835, 'id_str': '4196983835', 'na...</td>\n",
       "    </tr>\n",
       "  </tbody>\n",
       "</table>\n",
       "<p>2 rows × 31 columns</p>\n",
       "</div>"
      ],
      "text/plain": [
       "   contributors  coordinates          created_at display_text_range  \\\n",
       "0           NaN          NaN 2017-08-01 16:23:56            [0, 85]   \n",
       "1           NaN          NaN 2017-08-01 00:17:27           [0, 138]   \n",
       "\n",
       "                                            entities  \\\n",
       "0  {'hashtags': [], 'symbols': [], 'user_mentions...   \n",
       "1  {'hashtags': [], 'symbols': [], 'user_mentions...   \n",
       "\n",
       "                                   extended_entities  favorite_count  \\\n",
       "0  {'media': [{'id': 892420639486877696, 'id_str'...           39492   \n",
       "1  {'media': [{'id': 892177413194625024, 'id_str'...           33786   \n",
       "\n",
       "   favorited                                          full_text  geo  \\\n",
       "0      False  This is Phineas. He's a mystical boy. Only eve...  NaN   \n",
       "1      False  This is Tilly. She's just checking pup on you....  NaN   \n",
       "\n",
       "                         ...                          \\\n",
       "0                        ...                           \n",
       "1                        ...                           \n",
       "\n",
       "   possibly_sensitive_appealable  quoted_status quoted_status_id  \\\n",
       "0                            0.0            NaN              NaN   \n",
       "1                            0.0            NaN              NaN   \n",
       "\n",
       "   quoted_status_id_str  retweet_count  retweeted  retweeted_status  \\\n",
       "0                   NaN           8842      False               NaN   \n",
       "1                   NaN           6480      False               NaN   \n",
       "\n",
       "                                              source truncated  \\\n",
       "0  <a href=\"http://twitter.com/download/iphone\" r...     False   \n",
       "1  <a href=\"http://twitter.com/download/iphone\" r...     False   \n",
       "\n",
       "                                                user  \n",
       "0  {'id': 4196983835, 'id_str': '4196983835', 'na...  \n",
       "1  {'id': 4196983835, 'id_str': '4196983835', 'na...  \n",
       "\n",
       "[2 rows x 31 columns]"
      ]
     },
     "execution_count": 5,
     "metadata": {},
     "output_type": "execute_result"
    }
   ],
   "source": [
    "# 显示数据前2行\n",
    "tweet_json = pd.read_json(\"tweet_json.json\", lines = True)\n",
    "tweet_json.head(2)"
   ]
  },
  {
   "cell_type": "code",
   "execution_count": 6,
   "metadata": {},
   "outputs": [],
   "source": [
    "'''\n",
    "    补充twitter_archive_enhanced数据集中retweet_count列和favorite_count列\n",
    "'''\n",
    "rtweet_count_list = []\n",
    "favorite_count_list = []\n",
    "for i in range(len(twitter_archive_enhanced)):\n",
    "    id = twitter_archive_enhanced.loc[i]['tweet_id']\n",
    "    try:\n",
    "        t1 = tweet_json[tweet_json['id'] == id][\"retweet_count\"]\n",
    "        t2 = tweet_json[tweet_json['id'] == id][\"favorite_count\"]\n",
    "        rtweet_count_list.append(t1.iloc[0])\n",
    "        favorite_count_list.append(t2.iloc[0])\n",
    "    except:\n",
    "        rtweet_count_list.append(np.nan)\n",
    "        favorite_count_list.append(np.nan)\n",
    "# rtweet_count_list\n",
    "# favorite_count_list"
   ]
  },
  {
   "cell_type": "code",
   "execution_count": 7,
   "metadata": {},
   "outputs": [
    {
     "data": {
      "text/html": [
       "<div>\n",
       "<style scoped>\n",
       "    .dataframe tbody tr th:only-of-type {\n",
       "        vertical-align: middle;\n",
       "    }\n",
       "\n",
       "    .dataframe tbody tr th {\n",
       "        vertical-align: top;\n",
       "    }\n",
       "\n",
       "    .dataframe thead th {\n",
       "        text-align: right;\n",
       "    }\n",
       "</style>\n",
       "<table border=\"1\" class=\"dataframe\">\n",
       "  <thead>\n",
       "    <tr style=\"text-align: right;\">\n",
       "      <th></th>\n",
       "      <th>favorite_count</th>\n",
       "      <th>retweet_count</th>\n",
       "    </tr>\n",
       "  </thead>\n",
       "  <tbody>\n",
       "    <tr>\n",
       "      <th>0</th>\n",
       "      <td>39492.0</td>\n",
       "      <td>8842.0</td>\n",
       "    </tr>\n",
       "    <tr>\n",
       "      <th>1</th>\n",
       "      <td>33786.0</td>\n",
       "      <td>6480.0</td>\n",
       "    </tr>\n",
       "  </tbody>\n",
       "</table>\n",
       "</div>"
      ],
      "text/plain": [
       "   favorite_count  retweet_count\n",
       "0         39492.0         8842.0\n",
       "1         33786.0         6480.0"
      ]
     },
     "execution_count": 7,
     "metadata": {},
     "output_type": "execute_result"
    }
   ],
   "source": [
    "twitter_archive_enhanced['favorite_count'] = favorite_count_list\n",
    "twitter_archive_enhanced['retweet_count'] = rtweet_count_list\n",
    "twitter_archive_enhanced[['favorite_count', 'retweet_count']].head(2)"
   ]
  },
  {
   "cell_type": "markdown",
   "metadata": {
    "id": "0ECE44D296E3487EBDC8B0E7AFF5B5F6",
    "mdEditEnable": false
   },
   "source": [
    "结果检测"
   ]
  },
  {
   "cell_type": "code",
   "execution_count": 8,
   "metadata": {},
   "outputs": [
    {
     "name": "stdout",
     "output_type": "stream",
     "text": [
      "7    66596\n",
      "Name: favorite_count, dtype: int64\n",
      "7    66596.0\n",
      "Name: favorite_count, dtype: float64\n"
     ]
    }
   ],
   "source": [
    "# 查询id=890729181411237888的推特数据是否相等\n",
    "print(tweet_json[tweet_json['id'] == 890729181411237888]['favorite_count'])\n",
    "print(twitter_archive_enhanced[twitter_archive_enhanced['tweet_id'] == 890729181411237888]['favorite_count'])"
   ]
  },
  {
   "cell_type": "code",
   "execution_count": 9,
   "metadata": {},
   "outputs": [
    {
     "name": "stdout",
     "output_type": "stream",
     "text": [
      "7    19548\n",
      "Name: retweet_count, dtype: int64\n",
      "7    19548.0\n",
      "Name: retweet_count, dtype: float64\n"
     ]
    }
   ],
   "source": [
    "# 查询id=890729181411237888的推特数据是否相等\n",
    "print(tweet_json[tweet_json['id'] == 890729181411237888]['retweet_count'])\n",
    "print(twitter_archive_enhanced[twitter_archive_enhanced['tweet_id'] == 890729181411237888]['retweet_count'])"
   ]
  },
  {
   "cell_type": "markdown",
   "metadata": {},
   "source": [
    "#### b.image-predictions.tsv 文件为根据神经网络，对出现在每个推特中狗的品种（或其他物体、动物等）进行预测的结果数据.使用编程的方式下载该文件"
   ]
  },
  {
   "cell_type": "code",
   "execution_count": 10,
   "metadata": {},
   "outputs": [],
   "source": [
    "import requests"
   ]
  },
  {
   "cell_type": "code",
   "execution_count": 11,
   "metadata": {},
   "outputs": [],
   "source": [
    "# r = requests.get(\"https://raw.githubusercontent.com/udacity/new-dand-advanced-china/master/%E6%95%B0%E6%8D%AE%E6%B8%85%E6%B4%97/WeRateDogs%E9%A1%B9%E7%9B%AE/image-predictions.tsv\")"
   ]
  },
  {
   "cell_type": "code",
   "execution_count": 12,
   "metadata": {},
   "outputs": [],
   "source": [
    "# r.content"
   ]
  },
  {
   "cell_type": "code",
   "execution_count": 13,
   "metadata": {},
   "outputs": [],
   "source": [
    "# fileobj = open(\"image-predictions_byPythonDownload.tsv\", 'wb')\n",
    "# fileobj.write(r.content)\n",
    "# fileobj.close()"
   ]
  },
  {
   "cell_type": "markdown",
   "metadata": {},
   "source": [
    "结果检测 <br>\n",
    "该文件夹下已成功创建文件"
   ]
  },
  {
   "cell_type": "markdown",
   "metadata": {},
   "source": [
    "#### c. 增加新特征狗的品种(金毛、哈士奇和比熊等)"
   ]
  },
  {
   "cell_type": "code",
   "execution_count": 14,
   "metadata": {},
   "outputs": [],
   "source": [
    "# '''\n",
    "#     获得expanded_urls_serise的图片url\n",
    "# '''\n",
    "# def getImgUrlList(expanded_urls_serise):\n",
    "#     id = 0\n",
    "#     rec = []\n",
    "#     for expanded_url in expanded_urls_serise:\n",
    "#         print(id, \"    \")\n",
    "#         id += 1\n",
    "#         try:    \n",
    "#             '''\n",
    "#                 在url的list中查找包含\"twitter.com\"字符串的第一个url\n",
    "#             '''\n",
    "#             splistUrl = expanded_url.split(\",\")\n",
    "# #             print(splistUrl)\n",
    "#             for temp in splistUrl:\n",
    "#                 if temp.find(\"twitter.com\"):\n",
    "#                     rec.append(getImgUrl(temp))\n",
    "#                     break\n",
    "#         except:\n",
    "#             rec.append(np.nan)\n",
    "#             print(splistUrl, \"失败\")\n",
    "#     return rec\n",
    "# getImgUrlList(twitter_archive_enhanced['expanded_urls'])"
   ]
  },
  {
   "cell_type": "markdown",
   "metadata": {
    "hide_input": false,
    "id": "A8A5801C90E547ED894228D73270EB25",
    "mdEditEnable": false
   },
   "source": [
    "## 2.数据评估"
   ]
  },
  {
   "cell_type": "code",
   "execution_count": 15,
   "metadata": {},
   "outputs": [
    {
     "name": "stdout",
     "output_type": "stream",
     "text": [
      "<class 'pandas.core.frame.DataFrame'>\n",
      "RangeIndex: 2356 entries, 0 to 2355\n",
      "Data columns (total 19 columns):\n",
      "tweet_id                      2356 non-null int64\n",
      "in_reply_to_status_id         78 non-null float64\n",
      "in_reply_to_user_id           78 non-null float64\n",
      "timestamp                     2356 non-null object\n",
      "source                        2356 non-null object\n",
      "text                          2356 non-null object\n",
      "retweeted_status_id           181 non-null float64\n",
      "retweeted_status_user_id      181 non-null float64\n",
      "retweeted_status_timestamp    181 non-null object\n",
      "expanded_urls                 2297 non-null object\n",
      "rating_numerator              2356 non-null int64\n",
      "rating_denominator            2356 non-null int64\n",
      "name                          2356 non-null object\n",
      "doggo                         2356 non-null object\n",
      "floofer                       2356 non-null object\n",
      "pupper                        2356 non-null object\n",
      "puppo                         2356 non-null object\n",
      "favorite_count                2352 non-null float64\n",
      "retweet_count                 2352 non-null float64\n",
      "dtypes: float64(6), int64(3), object(10)\n",
      "memory usage: 349.8+ KB\n"
     ]
    }
   ],
   "source": [
    "twitter_archive_enhanced.info()"
   ]
  },
  {
   "cell_type": "code",
   "execution_count": 16,
   "metadata": {},
   "outputs": [],
   "source": [
    "# twitter_archive_enhanced[twitter_archive_enhanced['retweeted_status_id'].isnull() == False]"
   ]
  },
  {
   "cell_type": "code",
   "execution_count": 17,
   "metadata": {},
   "outputs": [],
   "source": [
    "# twitter_archive_enhanced[twitter_archive_enhanced['doggo'] == 'None']"
   ]
  },
  {
   "cell_type": "code",
   "execution_count": 18,
   "metadata": {},
   "outputs": [],
   "source": [
    "# t = twitter_archive_enhanced[twitter_archive_enhanced['doggo'] == \"None\"]\n",
    "# t['doggo'] = np.nan\n",
    "# t['doggo']\n",
    "# twitter_archive_enhanced.loc[twitter_archive_enhanced['doggo'] == \"None\", 'doggo'] = np.nan\n",
    "# twitter_archive_enhanced.loc[twitter_archive_enhanced['floofer'] == \"None\", 'floofer'] = np.nan\n",
    "# twitter_archive_enhanced.loc[twitter_archive_enhanced['pupper'] == \"None\", 'pupper'] = np.nan\n",
    "# twitter_archive_enhanced.loc[twitter_archive_enhanced['puppo'] == \"None\", 'puppo'] = np.nan"
   ]
  },
  {
   "cell_type": "code",
   "execution_count": 19,
   "metadata": {},
   "outputs": [],
   "source": [
    "# twitter_archive_enhanced.info()"
   ]
  },
  {
   "cell_type": "code",
   "execution_count": 20,
   "metadata": {},
   "outputs": [],
   "source": [
    "# twitter_archive_enhanced.to_csv(\"twitter_archive_enhanced_clean1.csv\")"
   ]
  },
  {
   "cell_type": "code",
   "execution_count": 21,
   "metadata": {},
   "outputs": [],
   "source": [
    "# t = twitter_archive_enhanced.loc[twitter_archive_enhanced['name'] == 'None', 'text']\n",
    "# t.iloc[1]"
   ]
  },
  {
   "cell_type": "markdown",
   "metadata": {},
   "source": [
    "质量问题：\n"
   ]
  },
  {
   "cell_type": "markdown",
   "metadata": {},
   "source": [
    "- in_reply_to_user_id  有78条。故有78条推特是回复。\n",
    "- in_reply_to_status_id 同上\n",
    "- source  列应当只包含iphone web内容\n",
    "- timestamp 列的时间数据不是datatime类型\n",
    "- name列数据异常\n",
    "- doggo\tfloofer\tpupper\tpuppo 列数据缺失\n",
    "- rating_denominator列中有异常值（等于0）\n",
    "- favorite_count 列中有几个NaN\n",
    "- retweet_count 列中有几个NaN\n",
    "- favorite_count和retweet_count列应当是int64类型"
   ]
  },
  {
   "cell_type": "markdown",
   "metadata": {},
   "source": [
    "清洁度问题:\n",
    "- doggo floofer pupper puppo 可以合并成一个列\n",
    "- retweeted_status_id和retweeted_status_user_id保留一个"
   ]
  },
  {
   "cell_type": "code",
   "execution_count": 22,
   "metadata": {},
   "outputs": [],
   "source": [
    "# twitter_archive_enhanced['expanded_urls'][1]"
   ]
  },
  {
   "cell_type": "code",
   "execution_count": 23,
   "metadata": {},
   "outputs": [],
   "source": [
    "# t = twitter_archive_enhanced.loc[twitter_archive_enhanced['rating_numerator'] == 0, 'text']\n",
    "# t.iloc[0]"
   ]
  },
  {
   "cell_type": "code",
   "execution_count": 24,
   "metadata": {},
   "outputs": [],
   "source": [
    "# pd.unique(twitter_archive_enhanced['rating_numerator'])"
   ]
  },
  {
   "cell_type": "markdown",
   "metadata": {
    "hide_input": false,
    "id": "C091768498404E29A6649EEC41A66810",
    "mdEditEnable": false
   },
   "source": [
    "## 3.数据清洗"
   ]
  },
  {
   "cell_type": "markdown",
   "metadata": {
    "hide_input": false,
    "id": "4B4E67138F3642B585AFC26A60987756"
   },
   "source": [
    "**a.  `in_reply_to_user_id` 有78条.将其删除**"
   ]
  },
  {
   "cell_type": "code",
   "execution_count": 25,
   "metadata": {},
   "outputs": [],
   "source": [
    "df_temp = twitter_archive_enhanced[twitter_archive_enhanced[\"in_reply_to_user_id\"].isnull()==False]"
   ]
  },
  {
   "cell_type": "code",
   "execution_count": 26,
   "metadata": {},
   "outputs": [],
   "source": [
    "twitter_archive_enhanced = twitter_archive_enhanced.drop(index=df_temp.index)"
   ]
  },
  {
   "cell_type": "markdown",
   "metadata": {},
   "source": [
    "检测"
   ]
  },
  {
   "cell_type": "code",
   "execution_count": 27,
   "metadata": {},
   "outputs": [
    {
     "name": "stdout",
     "output_type": "stream",
     "text": [
      "<class 'pandas.core.frame.DataFrame'>\n",
      "Int64Index: 2278 entries, 0 to 2355\n",
      "Data columns (total 19 columns):\n",
      "tweet_id                      2278 non-null int64\n",
      "in_reply_to_status_id         0 non-null float64\n",
      "in_reply_to_user_id           0 non-null float64\n",
      "timestamp                     2278 non-null object\n",
      "source                        2278 non-null object\n",
      "text                          2278 non-null object\n",
      "retweeted_status_id           181 non-null float64\n",
      "retweeted_status_user_id      181 non-null float64\n",
      "retweeted_status_timestamp    181 non-null object\n",
      "expanded_urls                 2274 non-null object\n",
      "rating_numerator              2278 non-null int64\n",
      "rating_denominator            2278 non-null int64\n",
      "name                          2278 non-null object\n",
      "doggo                         2278 non-null object\n",
      "floofer                       2278 non-null object\n",
      "pupper                        2278 non-null object\n",
      "puppo                         2278 non-null object\n",
      "favorite_count                2274 non-null float64\n",
      "retweet_count                 2274 non-null float64\n",
      "dtypes: float64(6), int64(3), object(10)\n",
      "memory usage: 355.9+ KB\n"
     ]
    }
   ],
   "source": [
    "twitter_archive_enhanced.info()\n",
    "# in_reply_to_user_id           0 non-null float64"
   ]
  },
  {
   "cell_type": "markdown",
   "metadata": {},
   "source": [
    "**b. `source`列应当只包含iphone web等内容**\n"
   ]
  },
  {
   "cell_type": "code",
   "execution_count": 28,
   "metadata": {},
   "outputs": [],
   "source": [
    "# 重置index列\n",
    "twitter_archive_enhanced.reset_index(drop=True, inplace=True)\n",
    "# twitter_archive_enhanced"
   ]
  },
  {
   "cell_type": "code",
   "execution_count": 29,
   "metadata": {},
   "outputs": [],
   "source": [
    "'''\n",
    "    解析出每一个html标记语言中的内容\n",
    "    <a href=\"http://twitter.com/download/iphone\" rel=\"nofollow\">Twitter for iPhone</a>\n",
    "    提取出Twitter for iPhone\n",
    "'''\n",
    "# html = twitter_archive_enhanced['source'][1]\n",
    "# t = BeautifulSoup(html, 'lxml')\n",
    "# t.a.contents\n",
    "\n",
    "for i in range(len(twitter_archive_enhanced)):\n",
    "    html = twitter_archive_enhanced.loc[i, 'source']\n",
    "    try:\n",
    "        t = BeautifulSoup(html, 'lxml') # html转为BeautifulSoup\n",
    "        twitter_archive_enhanced.loc[i, 'source'] = t.a.contents[0]\n",
    "    except:\n",
    "        twitter_archive_enhanced.loc[i, 'source'] = html\n",
    "# twitter_archive_enhanced['source']"
   ]
  },
  {
   "cell_type": "code",
   "execution_count": 30,
   "metadata": {},
   "outputs": [],
   "source": [
    "# '''\n",
    "#     将列表转为变量\n",
    "#     twitter_archive_enhanced['source'][i][0]\n",
    "# '''\n",
    "# for i in range(len(twitter_archive_enhanced)):\n",
    "#     twitter_archive_enhanced['source'][i] = twitter_archive_enhanced['source'][i][0]"
   ]
  },
  {
   "cell_type": "markdown",
   "metadata": {},
   "source": [
    "检测"
   ]
  },
  {
   "cell_type": "code",
   "execution_count": 31,
   "metadata": {},
   "outputs": [
    {
     "data": {
      "text/plain": [
       "array(['Twitter for iPhone', 'Twitter Web Client', 'Vine - Make a Scene',\n",
       "       'TweetDeck'], dtype=object)"
      ]
     },
     "execution_count": 31,
     "metadata": {},
     "output_type": "execute_result"
    }
   ],
   "source": [
    "twitter_archive_enhanced['source'].unique()"
   ]
  },
  {
   "cell_type": "markdown",
   "metadata": {},
   "source": [
    "**c. `timestamp` 列的时间数据不是datatime类型**"
   ]
  },
  {
   "cell_type": "code",
   "execution_count": 32,
   "metadata": {},
   "outputs": [],
   "source": [
    "twitter_archive_enhanced['timestamp'] = pd.to_datetime(twitter_archive_enhanced['timestamp'])"
   ]
  },
  {
   "cell_type": "markdown",
   "metadata": {},
   "source": [
    "检测"
   ]
  },
  {
   "cell_type": "code",
   "execution_count": 33,
   "metadata": {},
   "outputs": [
    {
     "name": "stdout",
     "output_type": "stream",
     "text": [
      "<class 'pandas.core.frame.DataFrame'>\n",
      "RangeIndex: 2278 entries, 0 to 2277\n",
      "Data columns (total 19 columns):\n",
      "tweet_id                      2278 non-null int64\n",
      "in_reply_to_status_id         0 non-null float64\n",
      "in_reply_to_user_id           0 non-null float64\n",
      "timestamp                     2278 non-null datetime64[ns]\n",
      "source                        2278 non-null object\n",
      "text                          2278 non-null object\n",
      "retweeted_status_id           181 non-null float64\n",
      "retweeted_status_user_id      181 non-null float64\n",
      "retweeted_status_timestamp    181 non-null object\n",
      "expanded_urls                 2274 non-null object\n",
      "rating_numerator              2278 non-null int64\n",
      "rating_denominator            2278 non-null int64\n",
      "name                          2278 non-null object\n",
      "doggo                         2278 non-null object\n",
      "floofer                       2278 non-null object\n",
      "pupper                        2278 non-null object\n",
      "puppo                         2278 non-null object\n",
      "favorite_count                2274 non-null float64\n",
      "retweet_count                 2274 non-null float64\n",
      "dtypes: datetime64[ns](1), float64(6), int64(3), object(9)\n",
      "memory usage: 338.2+ KB\n"
     ]
    }
   ],
   "source": [
    "twitter_archive_enhanced.info()"
   ]
  },
  {
   "cell_type": "markdown",
   "metadata": {},
   "source": [
    "** d. `name`列数据异常。根据`text`列修补 **\n",
    "- 使用正则表达式匹配名字，并且名字第一个字应该是大写.\n",
    "- 如果`text`中没有写出名字那么用nan代替"
   ]
  },
  {
   "cell_type": "code",
   "execution_count": 34,
   "metadata": {},
   "outputs": [],
   "source": [
    "# 引用 https://blog.csdn.net/u010606346/article/details/84778363\n",
    "twitter_archive_enhanced['name'] = twitter_archive_enhanced['text'].str.extract(r'(?:This is|named|Meet|Say hello to|name is|Here we have|Here is)\\s([A-Z][^\\s.,]*)')"
   ]
  },
  {
   "cell_type": "code",
   "execution_count": 35,
   "metadata": {},
   "outputs": [
    {
     "data": {
      "text/plain": [
       "array(['Phineas', 'Tilly', 'Archie', 'Darla', 'Franklin', nan, 'Jax',\n",
       "       'Zoey', 'Cassie', 'Koda', 'Bruno', 'Ted', 'Stuart', 'Oliver',\n",
       "       'Jim', 'Zeke', 'Ralphus', 'Canela', 'Gerald', 'Jeffrey', 'Maya',\n",
       "       'Mingus', 'Derek', 'Roscoe', 'Waffles', 'Jimbo', 'Maisey',\n",
       "       'Howard', 'Lilly', 'Earl', 'Lola', 'Kevin', 'Yogi', 'Noah',\n",
       "       'Bella', 'Grizzwald', 'Rusty', 'Gus', 'Stanley', 'Alfy', 'Koko',\n",
       "       'Rey', 'Gary', 'Elliot', 'Louis', 'Jesse', 'Romeo', 'Bailey',\n",
       "       'Duddles', 'Jack', 'Emmy', 'Steven', 'Beau', 'Snoopy', 'Shadow',\n",
       "       'Terrance', 'Aja', 'Penny', 'Dante', 'Nelly', 'Ginger', 'Benedict',\n",
       "       'Venti', 'Goose', 'Nugget', 'Cash', 'Coco', 'Jed', 'Sebastian',\n",
       "       'Walter', 'Sierra', 'Monkey', 'Harry', 'Kody', 'Lassie', 'Rover',\n",
       "       'Napolean', 'Dawn', 'Boomer', 'Cody', 'Rumble', 'Clifford',\n",
       "       'Dewey', 'Scout', 'Gizmo', 'Cooper', 'Harold', 'Shikha', 'Jamesy',\n",
       "       'Lili', 'Sammy', 'Meatball', 'Paisley', 'Albus', 'Neptune',\n",
       "       'Quinn', 'Belle', 'Zooey', 'Dave', 'Jersey', 'Hobbes', 'Burt',\n",
       "       'Lorenzo', 'Carl', 'Jordy', 'Milky', 'Trooper', 'Winston',\n",
       "       'Sophie', 'Wyatt', 'Rosie', 'Thor', 'Oscar', 'Luna', 'Callie',\n",
       "       'Cermet', 'George', 'Marlee', 'Arya', 'Einstein', 'Alice',\n",
       "       'Rumpole', 'Benny', 'Aspen', 'Jarod', 'Wiggles', 'General',\n",
       "       'Sailor', 'Astrid', 'Iggy', 'Snoop', 'Kyle', 'Leo', 'Riley',\n",
       "       'Gidget', 'Noosh', 'Odin', 'Jerry', 'Charlie', 'Georgie', 'Rontu',\n",
       "       'Cannon', 'Furzey', 'Daisy', 'Tuck', 'Barney', 'Vixen', 'Jarvis',\n",
       "       'Mimosa', 'Pickles', 'Bungalo', 'Brady', 'Margo', 'Sadie', 'Hank',\n",
       "       'Tycho', 'Stephan', 'Indie', 'Winnie', 'Bentley', 'Ken', 'Max',\n",
       "       'Maddie', 'Pipsy', 'Monty', 'Sojourner', 'Odie', 'Arlo', 'Sunny',\n",
       "       'Vincent', 'Lucy', 'Clark', 'Mookie', 'Meera', 'Buddy', 'Ava',\n",
       "       'Rory', 'Eli', 'Ash', 'Tucker', 'Tobi', 'Chester', 'Wilson',\n",
       "       'Sunshine', 'Lipton', 'Gabby', 'Bronte', 'Poppy', 'Rhino',\n",
       "       'Willow', 'Orion', 'Eevee', 'Smiley', 'Logan', 'Moreton', 'Klein',\n",
       "       'Miguel', 'Emanuel', 'Kuyu', 'Dutch', 'Pete', 'Scooter', 'Reggie',\n",
       "       'Kyro', 'Samson', 'Loki', 'Mia', 'Malcolm', 'Dexter', 'Alfie',\n",
       "       'Fiona', 'Mutt', 'Bear', 'Doobert', 'Beebop', 'Alexander',\n",
       "       'Sailer', 'Brutus', 'Kona', 'Boots', 'Ralphie', 'Phil', 'Cupid',\n",
       "       'Pawnd', 'Pilot', 'Ike', 'Mo', 'Toby', 'Sweet', 'Pablo', 'Nala',\n",
       "       'Balto', 'Crawford', 'Gabe', 'Mattie', 'Jimison', 'Hercules',\n",
       "       'Duchess', 'Harlso', 'Sampson', 'Sundance', 'Luca', 'Flash',\n",
       "       'Finn', 'Peaches', 'Howie', 'Jazzy', 'Anna', 'Bo', 'Seamus',\n",
       "       'Wafer', 'Chelsea', 'Tom', 'Moose', 'Florence', 'Autumn', 'Dido',\n",
       "       'Eugene', 'Herschel', 'Strudel', 'Tebow', 'Chloe', 'Betty',\n",
       "       'Timber', 'Binky', 'Dudley', 'Comet', 'Larry', 'Levi', 'Akumi',\n",
       "       'Titan', 'Olivia', 'Alf', 'Oshie', 'Bruce', 'Chubbs', 'Sky',\n",
       "       'Atlas', 'Eleanor', 'Layla', 'Rocky', 'Baron', 'Tyr', 'Bauer',\n",
       "       'Swagger', 'Brandi', 'Mary', 'Moe', 'Halo', 'Augie', 'Craig',\n",
       "       'Sam', 'Hunter', 'Pavlov', 'Maximus', 'Wallace', 'Ito', 'Milo',\n",
       "       'Burke', 'Ollie', 'Cali', 'Lennon', 'Major', 'Duke', 'Reginald',\n",
       "       'Sansa', 'Shooter', 'Django', 'Diogi', 'Sonny', 'Philbert',\n",
       "       'Marley', 'Severus', 'Ronnie', 'Anakin', 'Bones', 'Mauve', 'Chef',\n",
       "       'Doc', 'Sobe', 'Longfellow', 'Mister', 'Iroh', 'Baloo', 'Stubert',\n",
       "       'Paull', 'Tickles', 'Timison', 'Davey', 'Pancake', 'Tyrone',\n",
       "       'Snicku', 'Ruby', 'Brody', 'Rizzy', 'Mack', 'Butter', 'Nimbus',\n",
       "       'Laika', 'Dobby', 'Juno', 'Maude', 'Lily', 'Newt', 'Benji', 'Nida',\n",
       "       'Robin', 'Monster', 'BeBe', 'Remus', 'Mabel', 'Misty', 'Happy',\n",
       "       'Mosby', 'Maggie', 'Leela', 'Ralphy', 'Brownie', 'Meyer', 'Stella',\n",
       "       'Frank', 'Tonks', 'Lincoln', 'Oakley', 'Dale', 'Rizzo', 'Arnie',\n",
       "       'Pinot', 'Dallas', 'Hero', 'Frankie', 'Stormy', 'Mairi', 'Loomis',\n",
       "       'Godi', 'Kenny', 'Deacon', 'Timmy', 'Harper', 'Chipson', 'Combo',\n",
       "       'Dash', 'Bell', 'Hurley', 'Jay', 'Mya', 'Strider', 'Wesley',\n",
       "       'Solomon', 'Huck', \"O'Malley\", 'Blue', 'Finley', 'Sprinkles',\n",
       "       'Heinrich', 'Shakespeare', 'Fizz', 'Chip', 'Grey', 'Roosevelt',\n",
       "       'Gromit', 'Willem', 'Dakota', 'Dixie', 'Al', 'Jackson', 'Carbon',\n",
       "       'DonDon', 'Kirby', 'Lou', 'Nollie', 'Chevy', 'Tito', 'Louie',\n",
       "       'Rupert', 'Rufus', 'Brudge', 'Shadoe', 'Colby', 'Angel', 'Brat',\n",
       "       'Tove', 'Aubie', 'Kota', 'Eve', 'Glenn', 'Shelby', 'Sephie',\n",
       "       'Bonaparte', 'Albert', 'Wishes', 'Rose', 'Theo', 'Rocco', 'Fido',\n",
       "       'Emma', 'Spencer', 'Lilli', 'Boston', 'Brandonald', 'Corey',\n",
       "       'Leonard', 'Chompsky', 'Beckham', 'Devón', 'Gert', 'Watson',\n",
       "       'Rubio', 'Keith', 'Dex', 'Carly', 'Ace', 'Tayzie', 'Grizzie',\n",
       "       'Fred', 'Gilbert', 'Zoe', 'Stewie', 'Calvin', 'Lilah', 'Spanky',\n",
       "       'Jameson', 'Piper', 'Atticus', 'Blu', 'Dietrich', 'Divine',\n",
       "       'Tripp', 'Cora', 'Huxley', 'Keurig', 'Bookstore', 'Linus', 'Abby',\n",
       "       'Shaggy', 'Shiloh', 'Gustav', 'Arlen', 'Percy', 'Lenox', 'Sugar',\n",
       "       'Harvey', 'Blanket', 'Geno', 'Stark', 'Beya', 'Kilo', 'Kayla',\n",
       "       'Maxaroni', 'Doug', 'Edmund', 'Aqua', 'Theodore', 'Chase', 'Rorie',\n",
       "       'Simba', 'Charles', 'Bayley', 'Axel', 'Storkson', 'Remy',\n",
       "       'Chadrick', 'Kellogg', 'Buckley', 'Livvie', 'Terry', 'Hermione',\n",
       "       'Ralpher', 'Aldrick', 'Rooney', 'Crystal', 'Ziva', 'Stefan',\n",
       "       'Pupcasso', 'Puff', 'Flurpson', 'Coleman', 'Enchilada', 'Raymond',\n",
       "       'Rueben', 'Cilantro', 'Karll', 'Sprout', 'Blitz', 'Bloop',\n",
       "       'Lillie', 'Fred-Rick', 'Ashleigh', 'Kreggory', 'Sarge', 'Luther',\n",
       "       'Ivar', 'Jangle', 'Schnitzel', 'Panda', 'Berkeley', 'Ralphé',\n",
       "       'Charleson', 'Clyde', 'Harnold', 'Sid', 'Pippa', 'Otis', 'Carper',\n",
       "       'Bowie', 'Alexanderson', 'Suki', 'Barclay', 'Skittle', 'Ebby',\n",
       "       'Flávio', 'Smokey', 'Link', 'Jennifur', 'Ozzy', 'Bluebert',\n",
       "       'Stephanus', 'Bubbles', 'Zeus', 'Bertson', 'Nico',\n",
       "       'Michelangelope', 'Siba', 'Calbert', 'Curtis', 'Travis', 'Thumas',\n",
       "       'Kanu', 'Lance', 'Opie', 'Kane', 'Olive', 'Chuckles', 'Staniel',\n",
       "       'Sora', 'Beemo', 'Gunner', 'Lacy', 'Tater', 'Olaf', 'Cecil',\n",
       "       'Vince', 'Karma', 'Billy', 'Walker', 'Rodney', 'Klevin', 'Malikai',\n",
       "       'Bobble', 'River', 'Jebberson', 'Remington', 'Farfle', 'Jiminus',\n",
       "       'Clarkus', 'Finnegus', 'Cupcake', 'Kathmandu', 'Ellie', 'Katie',\n",
       "       'Kara', 'Adele', 'Zara', 'Ambrose', 'Jimothy', 'Bode', 'Terrenth',\n",
       "       'Reese', 'Chesterson', 'Lucia', 'Bisquick', 'Ralphson', 'Socks',\n",
       "       'Rambo', 'Rudy', 'Fiji', 'Rilo', 'Bilbo', 'Coopson', 'Yoda',\n",
       "       'Millie', 'Chet', 'Crouton', 'Daniel', 'Kaia', 'Murphy', 'Dotsy',\n",
       "       'Eazy-E', 'Coops', 'Fillup', 'Miley', 'Charl', 'Reagan', 'Yukon',\n",
       "       'CeCe', 'Cuddles', 'Claude', 'Jessiga', 'Carter', 'Ole', 'Pherb',\n",
       "       'Blipson', 'Reptar', 'Trevith', 'Berb', 'Bob', 'Colin', 'Brian',\n",
       "       'Oliviér', 'Grady', 'Kobe', 'Freddery', 'Bodie', 'Dunkin', 'Wally',\n",
       "       'Tupawc', 'Amber', 'Edgar', 'Teddy', 'Kingsley', 'Brockly',\n",
       "       'Richie', 'Molly', 'Vinscent', 'Cedrick', 'Hazel', 'Lolo', 'Eriq',\n",
       "       'Phred', 'Oddie', 'Maxwell', 'Geoff', 'Covach', 'Durg', 'Fynn',\n",
       "       'Ricky', 'Herald', 'Lucky', 'Ferg', 'Trip', 'Clarence', 'Hamrick',\n",
       "       'Brad', 'Pubert', 'Frönq', 'Derby', 'Lizzie', 'Ember', 'Blakely',\n",
       "       'Opal', 'Marq', 'Kramer', 'Barry', 'Gordon', 'Baxter', 'Mona',\n",
       "       'Horace', 'Crimson', 'Birf', 'Hammond', 'Lorelei', 'Marty',\n",
       "       'Brooks', 'Petrick', 'Hubertson', 'Gerbald', 'Oreo', 'Bruiser',\n",
       "       'Perry', 'Bobby', 'Jeph', 'Obi', 'Tino', 'Kulet', 'Sweets', 'Lupe',\n",
       "       'Tiger', 'Jiminy', 'Griffin', 'Banjo', 'Brandy', 'Lulu', 'Darrel',\n",
       "       'Taco', 'Joey', 'Patrick', 'Kreg', 'Todo', 'Tess', 'Thea',\n",
       "       'Ulysses', 'Toffee', 'Apollo', 'Asher', 'Glacier', 'Chuck',\n",
       "       'Champ', 'Ozzie', 'Griswold', 'Cheesy', 'Moofasa', 'Hector',\n",
       "       'Goliath', 'Kawhi', 'Emmie', 'Penelope', 'Willie', 'Rinna',\n",
       "       'Sabertooth', 'Mike', 'William', 'Dwight', 'Evy', 'Rascal',\n",
       "       'Linda', 'Tug', 'Tango', 'Grizz', 'Jerome', 'Crumpet', 'Jessifer',\n",
       "       'Izzy', 'Ralph', 'Sandy', 'Humphrey', 'Tassy', 'Juckson', 'Chuq',\n",
       "       'Tyrus', 'Karl', 'Godzilla', 'Vinnie', 'Kenneth', 'Herm', 'Bert',\n",
       "       'Striker', 'Donny', 'Pepper', 'Bernie', 'Buddah', 'Lenny', 'Wylie',\n",
       "       'Arnold', 'Zuzu', 'Mollie', 'Laela', 'Tedders', 'Superpup',\n",
       "       'Rufio', 'Jeb', 'Rodman', 'Jonah', 'Chesney', 'Henry', 'Bobbay',\n",
       "       'Mitch', 'Kaiya', 'Acro', 'Aiden', 'Obie', 'Dot', 'Shnuggles',\n",
       "       'Kendall', 'Kip', 'Jeffri', 'Steve', 'Mac', 'Fletcher', 'Kenzie',\n",
       "       'Pumpkin', 'Schnozz', 'Gustaf', 'Cheryl', 'Ed', 'Leonidas',\n",
       "       'Norman', 'Caryl', 'Scott', 'Taz', 'Darby', 'Jackie', 'Jazz',\n",
       "       'Franq', 'Pippin', 'Rolf', 'Snickers', 'Ridley', 'Cal', 'Bradley',\n",
       "       'Bubba', 'Tuco', 'Patch', 'Mojo', 'Batdog', 'Dylan', 'Mark',\n",
       "       'Jacob', 'JD', 'Alejandro', 'Scruffers', 'Pip', 'Julius', 'Tanner',\n",
       "       'Sparky', 'Anthony', 'Holly', 'Jett', 'Amy', 'Sage', 'Andy',\n",
       "       'Mason', 'Trigger', 'Antony', 'Creg', 'Traviss', 'Gin', 'Jeffrie',\n",
       "       'Danny', 'Ester', 'Pluto', 'Bloo', 'Edd', 'Willy', 'Spork', 'Herb',\n",
       "       'Damon', 'Peanut', 'Nigel', 'Cherokee', 'Butters', 'Hemry',\n",
       "       'Sandra', 'Fabio', 'Randall', 'Liam', 'Tommy', 'Ben', 'Raphael',\n",
       "       'Julio', 'Andru', 'Alphred', 'Kloey', 'Shawwn', 'Skye', 'Kollin',\n",
       "       'Alfredo', 'Ronduh', 'Billl', 'Saydee', 'Dug', 'Sully', 'Kirk',\n",
       "       'Ralf', 'Clarq', 'Jaspers', 'Samsom', 'Pancho', 'Harrison', 'Chaz',\n",
       "       'Jeremy', 'Jaycob', 'Leroi', 'Lambeau', 'Ruffles', 'Amélie',\n",
       "       'Bobb', 'Banditt', 'Kevon', 'Winifred', 'Hanz', 'Berta', 'Churlie',\n",
       "       'Zeek', 'Timofy', 'Maks', 'Jomathan', 'Kallie', 'Marvin', 'Spark',\n",
       "       'Gòrdón', 'Chuk', 'Jo', 'DayZ', 'Guss', 'Jareld', 'Torque', 'Ron',\n",
       "       'Skittles', 'Alfonso', 'Cleopatricia', 'Erik', 'Stu', 'Tedrick',\n",
       "       'Filup', 'Kial', 'Klint', 'Naphaniel', 'Big', 'Dook', 'Hall',\n",
       "       'Philippe', 'Kohl', 'Biden', 'Fwed', 'Genevieve', 'Joshwa',\n",
       "       'Daryl', 'Bradlay', 'Clybe', 'Keet', 'Carll', 'Pepe', 'Jockson',\n",
       "       'Octaviath', 'Josep', 'Lugan', 'Johm', 'Christoper'], dtype=object)"
      ]
     },
     "execution_count": 35,
     "metadata": {},
     "output_type": "execute_result"
    }
   ],
   "source": [
    "twitter_archive_enhanced['name'].unique()"
   ]
  },
  {
   "cell_type": "code",
   "execution_count": 36,
   "metadata": {},
   "outputs": [
    {
     "name": "stdout",
     "output_type": "stream",
     "text": [
      "<class 'pandas.core.frame.DataFrame'>\n",
      "RangeIndex: 2278 entries, 0 to 2277\n",
      "Data columns (total 19 columns):\n",
      "tweet_id                      2278 non-null int64\n",
      "in_reply_to_status_id         0 non-null float64\n",
      "in_reply_to_user_id           0 non-null float64\n",
      "timestamp                     2278 non-null datetime64[ns]\n",
      "source                        2278 non-null object\n",
      "text                          2278 non-null object\n",
      "retweeted_status_id           181 non-null float64\n",
      "retweeted_status_user_id      181 non-null float64\n",
      "retweeted_status_timestamp    181 non-null object\n",
      "expanded_urls                 2274 non-null object\n",
      "rating_numerator              2278 non-null int64\n",
      "rating_denominator            2278 non-null int64\n",
      "name                          1534 non-null object\n",
      "doggo                         2278 non-null object\n",
      "floofer                       2278 non-null object\n",
      "pupper                        2278 non-null object\n",
      "puppo                         2278 non-null object\n",
      "favorite_count                2274 non-null float64\n",
      "retweet_count                 2274 non-null float64\n",
      "dtypes: datetime64[ns](1), float64(6), int64(3), object(9)\n",
      "memory usage: 338.2+ KB\n"
     ]
    }
   ],
   "source": [
    "twitter_archive_enhanced.info()\n",
    "# 没有名字的用nan代替"
   ]
  },
  {
   "cell_type": "markdown",
   "metadata": {},
   "source": [
    "**e.`doggo floofer pupper puppo`等 列数据缺失** \n",
    "- 查询text中是否存在对应的单词（doggo floofer pupper puppo）\n",
    "- 存在则放入新的列`nickname`中"
   ]
  },
  {
   "cell_type": "code",
   "execution_count": 39,
   "metadata": {},
   "outputs": [],
   "source": [
    "# twitter_archive_enhanced[twitter_archive_enhanced['text'].str.find('puppo')!=-1]\n",
    "# nickname\n",
    "for i in range(len(twitter_archive_enhanced)):\n",
    "    if twitter_archive_enhanced.loc[i, 'text'].find(\"puppo\")!=-1:\n",
    "        twitter_archive_enhanced.loc[i, 'nickname'] = \"puppo\"\n",
    "        \n",
    "    if twitter_archive_enhanced.loc[i, 'text'].find(\"doggo\")!=-1:\n",
    "        twitter_archive_enhanced.loc[i, 'nickname'] = \"doggo\"\n",
    "        \n",
    "    if twitter_archive_enhanced.loc[i, 'text'].find(\"floofer\")!=-1:\n",
    "        twitter_archive_enhanced.loc[i, 'nickname'] = \"floofer\"\n",
    "        \n",
    "    if twitter_archive_enhanced.loc[i, 'text'].find(\"pupper\")!=-1:\n",
    "        twitter_archive_enhanced.loc[i, 'nickname'] = \"pupper\""
   ]
  },
  {
   "cell_type": "markdown",
   "metadata": {},
   "source": [
    "检测"
   ]
  },
  {
   "cell_type": "code",
   "execution_count": 41,
   "metadata": {},
   "outputs": [
    {
     "data": {
      "text/plain": [
       "0      NaN\n",
       "1      NaN\n",
       "2      NaN\n",
       "3      NaN\n",
       "4      NaN\n",
       "5      NaN\n",
       "6      NaN\n",
       "7      NaN\n",
       "8      NaN\n",
       "9    doggo\n",
       "Name: nickname, dtype: object"
      ]
     },
     "execution_count": 41,
     "metadata": {},
     "output_type": "execute_result"
    }
   ],
   "source": [
    "twitter_archive_enhanced['nickname'].head(10)"
   ]
  },
  {
   "cell_type": "markdown",
   "metadata": {},
   "source": [
    "** f.`rating_denominator`数据缺失** "
   ]
  },
  {
   "cell_type": "markdown",
   "metadata": {},
   "source": [
    "使用正则表达式重新解析出分数"
   ]
  },
  {
   "cell_type": "code",
   "execution_count": 95,
   "metadata": {},
   "outputs": [],
   "source": [
    "temp = twitter_archive_enhanced['text'].str.extract(r'(\\d+\\.?\\d*\\/\\d+)')\n",
    "temp = temp[0].str.split(\"/\")\n",
    "\n",
    "for i in range(len(twitter_archive_enhanced)):\n",
    "    twitter_archive_enhanced.loc[i, 'rating_numerator'] = temp[i][0]\n",
    "    twitter_archive_enhanced.loc[i, 'rating_denominator'] = temp[i][1]"
   ]
  },
  {
   "cell_type": "markdown",
   "metadata": {},
   "source": [
    "结果检测"
   ]
  },
  {
   "cell_type": "code",
   "execution_count": 96,
   "metadata": {},
   "outputs": [
    {
     "name": "stdout",
     "output_type": "stream",
     "text": [
      "<class 'pandas.core.frame.DataFrame'>\n",
      "RangeIndex: 2278 entries, 0 to 2277\n",
      "Data columns (total 20 columns):\n",
      "tweet_id                      2278 non-null int64\n",
      "in_reply_to_status_id         0 non-null float64\n",
      "in_reply_to_user_id           0 non-null float64\n",
      "timestamp                     2278 non-null datetime64[ns]\n",
      "source                        2278 non-null object\n",
      "text                          2278 non-null object\n",
      "retweeted_status_id           181 non-null float64\n",
      "retweeted_status_user_id      181 non-null float64\n",
      "retweeted_status_timestamp    181 non-null object\n",
      "expanded_urls                 2274 non-null object\n",
      "rating_numerator              2278 non-null object\n",
      "rating_denominator            2278 non-null object\n",
      "name                          1534 non-null object\n",
      "doggo                         2278 non-null object\n",
      "floofer                       2278 non-null object\n",
      "pupper                        2278 non-null object\n",
      "puppo                         2278 non-null object\n",
      "favorite_count                2274 non-null float64\n",
      "retweet_count                 2274 non-null float64\n",
      "nickname                      388 non-null object\n",
      "dtypes: datetime64[ns](1), float64(6), int64(1), object(12)\n",
      "memory usage: 356.0+ KB\n"
     ]
    }
   ],
   "source": [
    "twitter_archive_enhanced.info()"
   ]
  },
  {
   "cell_type": "markdown",
   "metadata": {},
   "source": [
    "** G. favorite_count 列和retweet_count中有几个NaN **\n",
    "- 用均值填充"
   ]
  },
  {
   "cell_type": "code",
   "execution_count": 106,
   "metadata": {},
   "outputs": [],
   "source": [
    "favorite_count_mean = twitter_archive_enhanced['favorite_count'].mean()\n",
    "retweet_count_mean = twitter_archive_enhanced['retweet_count'].mean()"
   ]
  },
  {
   "cell_type": "code",
   "execution_count": 113,
   "metadata": {},
   "outputs": [],
   "source": [
    "twitter_archive_enhanced['favorite_count'].fillna(favorite_count_mean, inplace = True)\n",
    "twitter_archive_enhanced['retweet_count'].fillna(retweet_count_mean, inplace = True)"
   ]
  },
  {
   "cell_type": "markdown",
   "metadata": {},
   "source": [
    "结果检测"
   ]
  },
  {
   "cell_type": "code",
   "execution_count": 114,
   "metadata": {},
   "outputs": [
    {
     "name": "stdout",
     "output_type": "stream",
     "text": [
      "<class 'pandas.core.frame.DataFrame'>\n",
      "RangeIndex: 2278 entries, 0 to 2277\n",
      "Data columns (total 20 columns):\n",
      "tweet_id                      2278 non-null int64\n",
      "in_reply_to_status_id         0 non-null float64\n",
      "in_reply_to_user_id           0 non-null float64\n",
      "timestamp                     2278 non-null datetime64[ns]\n",
      "source                        2278 non-null object\n",
      "text                          2278 non-null object\n",
      "retweeted_status_id           181 non-null float64\n",
      "retweeted_status_user_id      181 non-null float64\n",
      "retweeted_status_timestamp    181 non-null object\n",
      "expanded_urls                 2274 non-null object\n",
      "rating_numerator              2278 non-null object\n",
      "rating_denominator            2278 non-null object\n",
      "name                          1534 non-null object\n",
      "doggo                         2278 non-null object\n",
      "floofer                       2278 non-null object\n",
      "pupper                        2278 non-null object\n",
      "puppo                         2278 non-null object\n",
      "favorite_count                2278 non-null float64\n",
      "retweet_count                 2278 non-null float64\n",
      "nickname                      388 non-null object\n",
      "dtypes: datetime64[ns](1), float64(6), int64(1), object(12)\n",
      "memory usage: 356.0+ KB\n"
     ]
    }
   ],
   "source": [
    "twitter_archive_enhanced.info()\n",
    "'''\n",
    "favorite_count                2278 non-null float64\n",
    "retweet_count                 2278 non-null float64\n",
    "已从2274 - > 2278\n",
    "'''"
   ]
  }
 ],
 "metadata": {
  "kernelspec": {
   "display_name": "Python 3",
   "language": "python",
   "name": "python3"
  },
  "language_info": {
   "codemirror_mode": {
    "name": "ipython",
    "version": 3
   },
   "file_extension": ".py",
   "mimetype": "text/x-python",
   "name": "python",
   "nbconvert_exporter": "python",
   "pygments_lexer": "ipython3",
   "version": "3.6.5"
  }
 },
 "nbformat": 4,
 "nbformat_minor": 1
}
